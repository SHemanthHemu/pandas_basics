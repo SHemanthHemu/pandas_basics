{
 "cells": [
  {
   "cell_type": "code",
   "execution_count": null,
   "id": "ac542f08",
   "metadata": {},
   "outputs": [],
   "source": [
    "import pandas as pd"
   ]
  },
  {
   "cell_type": "markdown",
   "id": "3127e384",
   "metadata": {},
   "source": [
    "## creation of series"
   ]
  },
  {
   "cell_type": "code",
   "execution_count": null,
   "id": "b7dbd914",
   "metadata": {},
   "outputs": [
    {
     "data": {
      "text/plain": [
       "0    10\n",
       "1    20\n",
       "2    30\n",
       "3    40\n",
       "4    50\n",
       "dtype: int64"
      ]
     },
     "execution_count": 4,
     "metadata": {},
     "output_type": "execute_result"
    }
   ],
   "source": [
    "# Series with sefault index\n",
    "data = [10, 20, 30, 40, 50] \n",
    "series1 = pd.Series(data)\n",
    "series1"
   ]
  },
  {
   "cell_type": "code",
   "execution_count": 5,
   "id": "8d369a13",
   "metadata": {},
   "outputs": [
    {
     "data": {
      "text/plain": [
       "A    10\n",
       "B    20\n",
       "C    30\n",
       "D    40\n",
       "E    50\n",
       "dtype: int64"
      ]
     },
     "execution_count": 5,
     "metadata": {},
     "output_type": "execute_result"
    }
   ],
   "source": [
    "# series with custom index \n",
    "series2 = pd.Series(data,index=[\"A\",\"B\",\"C\",\"D\",\"E\"])\n",
    "series2"
   ]
  },
  {
   "cell_type": "code",
   "execution_count": 8,
   "id": "192615a5",
   "metadata": {},
   "outputs": [
    {
     "name": "stdout",
     "output_type": "stream",
     "text": [
      "A    10\n",
      "B    20\n",
      "C    30\n",
      "D    40\n",
      "E    50\n",
      "dtype: int64\n"
     ]
    }
   ],
   "source": [
    "# Series with dict\n",
    "data_dict = {'A': 10, 'B': 20, 'C': 30, 'D': 40, 'E': 50} \n",
    "series3 = pd.Series(data_dict)\n",
    "print(series3)"
   ]
  },
  {
   "cell_type": "code",
   "execution_count": 10,
   "id": "304544f4",
   "metadata": {},
   "outputs": [
    {
     "data": {
      "text/plain": [
       "A    100\n",
       "B    100\n",
       "C    100\n",
       "D    100\n",
       "E    100\n",
       "dtype: int64"
      ]
     },
     "execution_count": 10,
     "metadata": {},
     "output_type": "execute_result"
    }
   ],
   "source": [
    "# Series with scalar value \n",
    "index=[\"A\",\"B\",\"C\",\"D\",\"E\"]\n",
    "series4 = pd.Series(100,index=index)\n",
    "series4"
   ]
  },
  {
   "cell_type": "markdown",
   "id": "efa12c0d",
   "metadata": {},
   "source": [
    "## basic properties "
   ]
  },
  {
   "cell_type": "code",
   "execution_count": 11,
   "id": "682d0447",
   "metadata": {},
   "outputs": [
    {
     "name": "stdout",
     "output_type": "stream",
     "text": [
      "[10 20 30 40 50]\n"
     ]
    }
   ],
   "source": [
    "# Accessing the actual values in the series \n",
    "print(series3.values)"
   ]
  },
  {
   "cell_type": "code",
   "execution_count": 12,
   "id": "54b8812f",
   "metadata": {},
   "outputs": [
    {
     "name": "stdout",
     "output_type": "stream",
     "text": [
      "Index(['A', 'B', 'C', 'D', 'E'], dtype='object')\n"
     ]
    }
   ],
   "source": [
    "# Accessing the index in the series \n",
    "print(series3.index)"
   ]
  },
  {
   "cell_type": "code",
   "execution_count": 14,
   "id": "ff9038ab",
   "metadata": {},
   "outputs": [
    {
     "name": "stdout",
     "output_type": "stream",
     "text": [
      "int64\n"
     ]
    }
   ],
   "source": [
    "# finding the data type of a series \n",
    "print(series3.dtype)"
   ]
  },
  {
   "cell_type": "markdown",
   "id": "763bbc6f",
   "metadata": {},
   "source": [
    "## Accessing Elements in a Series "
   ]
  },
  {
   "cell_type": "code",
   "execution_count": 16,
   "id": "00350a70",
   "metadata": {},
   "outputs": [
    {
     "name": "stdout",
     "output_type": "stream",
     "text": [
      "30\n"
     ]
    }
   ],
   "source": [
    "# access by position \n",
    "print(series3.iloc[2])"
   ]
  },
  {
   "cell_type": "code",
   "execution_count": 19,
   "id": "86f7bc97",
   "metadata": {},
   "outputs": [
    {
     "name": "stdout",
     "output_type": "stream",
     "text": [
      "40\n"
     ]
    }
   ],
   "source": [
    "# Accessing the position by the lable \n",
    "print(series3.loc['D'])"
   ]
  },
  {
   "cell_type": "code",
   "execution_count": null,
   "id": "fc98d11a",
   "metadata": {},
   "outputs": [
    {
     "name": "stdout",
     "output_type": "stream",
     "text": [
      "B    20\n",
      "C    30\n",
      "D    40\n",
      "dtype: int64\n"
     ]
    }
   ],
   "source": [
    "# Accessing multiple elements in a series by position\n",
    "print(series3[1:4])"
   ]
  },
  {
   "cell_type": "code",
   "execution_count": 21,
   "id": "b544b9d2",
   "metadata": {},
   "outputs": [
    {
     "name": "stdout",
     "output_type": "stream",
     "text": [
      "A    10\n",
      "B    20\n",
      "C    30\n",
      "D    40\n",
      "dtype: int64\n"
     ]
    }
   ],
   "source": [
    "# Accessing multiple elements in a series by lable\n",
    "print(series3['A':'D'])"
   ]
  },
  {
   "cell_type": "markdown",
   "id": "82b0ecda",
   "metadata": {},
   "source": [
    "## Performing Operations on a Series "
   ]
  },
  {
   "cell_type": "code",
   "execution_count": 22,
   "id": "ba8f93bc",
   "metadata": {},
   "outputs": [
    {
     "name": "stdout",
     "output_type": "stream",
     "text": [
      "A    25\n",
      "B    35\n",
      "C    45\n",
      "D    55\n",
      "E    65\n",
      "dtype: int64\n"
     ]
    }
   ],
   "source": [
    "# Arthematic operations \n",
    "series5 = series3+15\n",
    "print(series5)"
   ]
  },
  {
   "cell_type": "code",
   "execution_count": 23,
   "id": "982bb696",
   "metadata": {},
   "outputs": [
    {
     "name": "stdout",
     "output_type": "stream",
     "text": [
      "225\n",
      "45.0\n",
      "25\n",
      "65\n"
     ]
    }
   ],
   "source": [
    "# Aggrigations\n",
    "print(series5.sum())\n",
    "print(series5.mean())\n",
    "print(series5.min())\n",
    "print(series5.max())"
   ]
  },
  {
   "cell_type": "code",
   "execution_count": 25,
   "id": "e0a42471",
   "metadata": {},
   "outputs": [
    {
     "name": "stdout",
     "output_type": "stream",
     "text": [
      "A     625\n",
      "B    1225\n",
      "C    2025\n",
      "D    3025\n",
      "E    4225\n",
      "dtype: int64\n"
     ]
    }
   ],
   "source": [
    "# applaying functions (squaring of numbers)\n",
    "squaringS_5 = series5.apply(lambda x : x**2)\n",
    "print(squaringS_5)"
   ]
  },
  {
   "cell_type": "markdown",
   "id": "a860100e",
   "metadata": {},
   "source": [
    "## Handling Missing Data in Series "
   ]
  },
  {
   "cell_type": "code",
   "execution_count": null,
   "id": "ffd84f55",
   "metadata": {},
   "outputs": [
    {
     "name": "stdout",
     "output_type": "stream",
     "text": [
      "0    False\n",
      "1    False\n",
      "2     True\n",
      "3    False\n",
      "4    False\n",
      "dtype: bool\n"
     ]
    }
   ],
   "source": [
    "# checking the missing data (isna/isnull)\n",
    "series6 = pd.Series([10, 20, None, 40, 50]) \n",
    "print(series6.isna())"
   ]
  },
  {
   "cell_type": "code",
   "execution_count": 29,
   "id": "b514adf3",
   "metadata": {},
   "outputs": [
    {
     "name": "stdout",
     "output_type": "stream",
     "text": [
      "0    10.0\n",
      "1    20.0\n",
      "2     0.0\n",
      "3    40.0\n",
      "4    50.0\n",
      "dtype: float64\n"
     ]
    }
   ],
   "source": [
    "# Filling the missing values\n",
    "series6_cleaned = series6.fillna(0)\n",
    "print(series6_cleaned)"
   ]
  },
  {
   "cell_type": "code",
   "execution_count": 30,
   "id": "4cb42375",
   "metadata": {},
   "outputs": [
    {
     "name": "stdout",
     "output_type": "stream",
     "text": [
      "0    10.0\n",
      "1    20.0\n",
      "3    40.0\n",
      "4    50.0\n",
      "dtype: float64\n"
     ]
    }
   ],
   "source": [
    "# Drop missimg values\n",
    "series6_droppedna = series6.dropna()\n",
    "print(series6_droppedna)"
   ]
  },
  {
   "cell_type": "code",
   "execution_count": 31,
   "id": "25dd0f5b",
   "metadata": {},
   "outputs": [
    {
     "name": "stdout",
     "output_type": "stream",
     "text": [
      "Player A    200.000000\n",
      "Player B    250.000000\n",
      "Player C    333.333333\n",
      "Player D    400.000000\n",
      "Player E    833.333333\n",
      "dtype: float64\n"
     ]
    }
   ],
   "source": [
    "# Real world use case (finding strikr_rate )\n",
    "runs_series = pd.Series([10, 20, 30, 40, 50], index=['Player A', 'Player B', 'Player C', 'Player D', \n",
    "'Player E']) \n",
    "balls_faced = pd.Series([5, 8, 9, 10, 6], index=['Player A', 'Player B', 'Player C', 'Player D', \n",
    "'Player E']) \n",
    "\n",
    "strike_rate = (runs_series/balls_faced)*100\n",
    "print(strike_rate)"
   ]
  }
 ],
 "metadata": {
  "kernelspec": {
   "display_name": "Python 3",
   "language": "python",
   "name": "python3"
  },
  "language_info": {
   "codemirror_mode": {
    "name": "ipython",
    "version": 3
   },
   "file_extension": ".py",
   "mimetype": "text/x-python",
   "name": "python",
   "nbconvert_exporter": "python",
   "pygments_lexer": "ipython3",
   "version": "3.13.0"
  }
 },
 "nbformat": 4,
 "nbformat_minor": 5
}
